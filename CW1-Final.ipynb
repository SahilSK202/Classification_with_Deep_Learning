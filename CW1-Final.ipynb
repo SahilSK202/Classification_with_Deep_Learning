{
 "cells": [
  {
   "cell_type": "markdown",
   "id": "noted-trainer",
   "metadata": {},
   "source": [
    "# Introduction\n",
    "## Goal 🎯\n",
    "The Objective is to follow the universal workflow of DLWP 4.5 for any dataset and restricting models to \n",
    "sequential Dense and Dropout layers.\n",
    "<br>The Universal workflow to follow is:\n",
    "-  Defining the problem and assembling a dataset\n",
    "-  Choosing a measure of success\n",
    "-  Deciding on an evaluation protocol\n",
    "-  Preparing your data\n",
    "-  Developing a model that does better than a baseline\n",
    "-  Scaling up: developing a model that overfits\n",
    "-  Regularizing your model and tuning your hyperparameters\n",
    "\n"
   ]
  },
  {
   "cell_type": "markdown",
   "id": "metric-beginning",
   "metadata": {},
   "source": [
    "## About Dataset\n",
    "\n",
    "Dataset (UCI Machine Learning repository) - <a href = \"https://archive.ics.uci.edu/ml/datasets/Connectionist+Bench+%28Sonar%2C+Mines+vs.+Rocks%29\">Connectionist Bench (Sonar, Mines vs. Rocks) Data Set.</a> \n",
    "\n",
    "##### Problem : \n",
    "The task is to train a network to discriminate between sonar signals bounced off a metal cylinder and those bounced off a roughly cylindrical rock.\n",
    "\n",
    "It is a good test dataset for neural networks because all of the input values are numerical and have the same scale.\n",
    "\n",
    "We will evaluate the developed models using scikit-learn with 10-fold cross validation, in order to better tease out differences in the results.\n",
    "\n",
    "The data set contains signals obtained from a variety of different aspect angles, spanning 90 degrees for the cylinder and 180 degrees for the rock.\n",
    "\n",
    "Each pattern is a set of 60 numbers in the range 0.0 to 1.0. Each number represents the energy within a particular frequency band, integrated over a certain period of time. The integration aperture for higher frequencies occur later in time, since these frequencies are transmitted later during the chirp.\n",
    "\n",
    "The label associated with each record contains the letter \"R\" if the object is a rock and \"M\" if it is a mine (metal cylinder). The numbers in the labels are in increasing order of aspect angle, but they do not encode the angle directly."
   ]
  },
  {
   "cell_type": "markdown",
   "id": "optical-belle",
   "metadata": {},
   "source": [
    "## Explore the data"
   ]
  },
  {
   "cell_type": "markdown",
   "id": "reserved-specialist",
   "metadata": {},
   "source": [
    "### Importing Libraries"
   ]
  },
  {
   "cell_type": "code",
   "execution_count": 1,
   "id": "injured-pendant",
   "metadata": {
    "ExecuteTime": {
     "end_time": "2021-12-14T07:51:59.329828Z",
     "start_time": "2021-12-14T07:51:48.876809Z"
    }
   },
   "outputs": [],
   "source": [
    "import numpy as np\n",
    "import pandas as pd\n",
    "import pandas_profiling\n",
    "import seaborn as sns\n",
    "\n",
    "%matplotlib inline\n",
    "import matplotlib.pyplot as plt\n",
    "plt.style.use('ggplot')\n",
    "\n",
    "# Supressing the warning messages\n",
    "import warnings\n",
    "warnings.filterwarnings('ignore')"
   ]
  },
  {
   "cell_type": "code",
   "execution_count": 2,
   "id": "moved-journey",
   "metadata": {
    "ExecuteTime": {
     "end_time": "2021-12-14T07:51:59.438173Z",
     "start_time": "2021-12-14T07:51:59.331695Z"
    }
   },
   "outputs": [
    {
     "data": {
      "text/html": [
       "<div>\n",
       "<style scoped>\n",
       "    .dataframe tbody tr th:only-of-type {\n",
       "        vertical-align: middle;\n",
       "    }\n",
       "\n",
       "    .dataframe tbody tr th {\n",
       "        vertical-align: top;\n",
       "    }\n",
       "\n",
       "    .dataframe thead th {\n",
       "        text-align: right;\n",
       "    }\n",
       "</style>\n",
       "<table border=\"1\" class=\"dataframe\">\n",
       "  <thead>\n",
       "    <tr style=\"text-align: right;\">\n",
       "      <th></th>\n",
       "      <th>0</th>\n",
       "      <th>1</th>\n",
       "      <th>2</th>\n",
       "      <th>3</th>\n",
       "      <th>4</th>\n",
       "      <th>5</th>\n",
       "      <th>6</th>\n",
       "      <th>7</th>\n",
       "      <th>8</th>\n",
       "      <th>9</th>\n",
       "      <th>...</th>\n",
       "      <th>51</th>\n",
       "      <th>52</th>\n",
       "      <th>53</th>\n",
       "      <th>54</th>\n",
       "      <th>55</th>\n",
       "      <th>56</th>\n",
       "      <th>57</th>\n",
       "      <th>58</th>\n",
       "      <th>59</th>\n",
       "      <th>60</th>\n",
       "    </tr>\n",
       "  </thead>\n",
       "  <tbody>\n",
       "    <tr>\n",
       "      <th>106</th>\n",
       "      <td>0.0331</td>\n",
       "      <td>0.0423</td>\n",
       "      <td>0.0474</td>\n",
       "      <td>0.0818</td>\n",
       "      <td>0.0835</td>\n",
       "      <td>0.0756</td>\n",
       "      <td>0.0374</td>\n",
       "      <td>0.0961</td>\n",
       "      <td>0.0548</td>\n",
       "      <td>0.0193</td>\n",
       "      <td>...</td>\n",
       "      <td>0.0078</td>\n",
       "      <td>0.0174</td>\n",
       "      <td>0.0176</td>\n",
       "      <td>0.0038</td>\n",
       "      <td>0.0129</td>\n",
       "      <td>0.0066</td>\n",
       "      <td>0.0044</td>\n",
       "      <td>0.0134</td>\n",
       "      <td>0.0092</td>\n",
       "      <td>M</td>\n",
       "    </tr>\n",
       "    <tr>\n",
       "      <th>77</th>\n",
       "      <td>0.0336</td>\n",
       "      <td>0.0294</td>\n",
       "      <td>0.0476</td>\n",
       "      <td>0.0539</td>\n",
       "      <td>0.0794</td>\n",
       "      <td>0.0804</td>\n",
       "      <td>0.1136</td>\n",
       "      <td>0.1228</td>\n",
       "      <td>0.1235</td>\n",
       "      <td>0.0842</td>\n",
       "      <td>...</td>\n",
       "      <td>0.0150</td>\n",
       "      <td>0.0111</td>\n",
       "      <td>0.0032</td>\n",
       "      <td>0.0035</td>\n",
       "      <td>0.0169</td>\n",
       "      <td>0.0137</td>\n",
       "      <td>0.0015</td>\n",
       "      <td>0.0069</td>\n",
       "      <td>0.0051</td>\n",
       "      <td>R</td>\n",
       "    </tr>\n",
       "    <tr>\n",
       "      <th>89</th>\n",
       "      <td>0.0235</td>\n",
       "      <td>0.0291</td>\n",
       "      <td>0.0749</td>\n",
       "      <td>0.0519</td>\n",
       "      <td>0.0227</td>\n",
       "      <td>0.0834</td>\n",
       "      <td>0.0677</td>\n",
       "      <td>0.2002</td>\n",
       "      <td>0.2876</td>\n",
       "      <td>0.3674</td>\n",
       "      <td>...</td>\n",
       "      <td>0.0083</td>\n",
       "      <td>0.0037</td>\n",
       "      <td>0.0095</td>\n",
       "      <td>0.0105</td>\n",
       "      <td>0.0030</td>\n",
       "      <td>0.0132</td>\n",
       "      <td>0.0068</td>\n",
       "      <td>0.0108</td>\n",
       "      <td>0.0090</td>\n",
       "      <td>R</td>\n",
       "    </tr>\n",
       "    <tr>\n",
       "      <th>125</th>\n",
       "      <td>0.0228</td>\n",
       "      <td>0.0853</td>\n",
       "      <td>0.1000</td>\n",
       "      <td>0.0428</td>\n",
       "      <td>0.1117</td>\n",
       "      <td>0.1651</td>\n",
       "      <td>0.1597</td>\n",
       "      <td>0.2116</td>\n",
       "      <td>0.3295</td>\n",
       "      <td>0.3517</td>\n",
       "      <td>...</td>\n",
       "      <td>0.0172</td>\n",
       "      <td>0.0191</td>\n",
       "      <td>0.0260</td>\n",
       "      <td>0.0140</td>\n",
       "      <td>0.0125</td>\n",
       "      <td>0.0116</td>\n",
       "      <td>0.0093</td>\n",
       "      <td>0.0012</td>\n",
       "      <td>0.0036</td>\n",
       "      <td>M</td>\n",
       "    </tr>\n",
       "    <tr>\n",
       "      <th>191</th>\n",
       "      <td>0.0315</td>\n",
       "      <td>0.0252</td>\n",
       "      <td>0.0167</td>\n",
       "      <td>0.0479</td>\n",
       "      <td>0.0902</td>\n",
       "      <td>0.1057</td>\n",
       "      <td>0.1024</td>\n",
       "      <td>0.1209</td>\n",
       "      <td>0.1241</td>\n",
       "      <td>0.1533</td>\n",
       "      <td>...</td>\n",
       "      <td>0.0108</td>\n",
       "      <td>0.0062</td>\n",
       "      <td>0.0044</td>\n",
       "      <td>0.0072</td>\n",
       "      <td>0.0007</td>\n",
       "      <td>0.0054</td>\n",
       "      <td>0.0035</td>\n",
       "      <td>0.0001</td>\n",
       "      <td>0.0055</td>\n",
       "      <td>M</td>\n",
       "    </tr>\n",
       "  </tbody>\n",
       "</table>\n",
       "<p>5 rows × 61 columns</p>\n",
       "</div>"
      ],
      "text/plain": [
       "         0       1       2       3       4       5       6       7       8   \\\n",
       "106  0.0331  0.0423  0.0474  0.0818  0.0835  0.0756  0.0374  0.0961  0.0548   \n",
       "77   0.0336  0.0294  0.0476  0.0539  0.0794  0.0804  0.1136  0.1228  0.1235   \n",
       "89   0.0235  0.0291  0.0749  0.0519  0.0227  0.0834  0.0677  0.2002  0.2876   \n",
       "125  0.0228  0.0853  0.1000  0.0428  0.1117  0.1651  0.1597  0.2116  0.3295   \n",
       "191  0.0315  0.0252  0.0167  0.0479  0.0902  0.1057  0.1024  0.1209  0.1241   \n",
       "\n",
       "         9   ...      51      52      53      54      55      56      57  \\\n",
       "106  0.0193  ...  0.0078  0.0174  0.0176  0.0038  0.0129  0.0066  0.0044   \n",
       "77   0.0842  ...  0.0150  0.0111  0.0032  0.0035  0.0169  0.0137  0.0015   \n",
       "89   0.3674  ...  0.0083  0.0037  0.0095  0.0105  0.0030  0.0132  0.0068   \n",
       "125  0.3517  ...  0.0172  0.0191  0.0260  0.0140  0.0125  0.0116  0.0093   \n",
       "191  0.1533  ...  0.0108  0.0062  0.0044  0.0072  0.0007  0.0054  0.0035   \n",
       "\n",
       "         58      59  60  \n",
       "106  0.0134  0.0092   M  \n",
       "77   0.0069  0.0051   R  \n",
       "89   0.0108  0.0090   R  \n",
       "125  0.0012  0.0036   M  \n",
       "191  0.0001  0.0055   M  \n",
       "\n",
       "[5 rows x 61 columns]"
      ]
     },
     "execution_count": 2,
     "metadata": {},
     "output_type": "execute_result"
    }
   ],
   "source": [
    "df = pd.read_csv(\"sonar.all-data.csv\", header=None)\n",
    "df.sample(5)"
   ]
  },
  {
   "cell_type": "code",
   "execution_count": 3,
   "id": "focused-louisville",
   "metadata": {
    "ExecuteTime": {
     "end_time": "2021-12-14T07:51:59.454169Z",
     "start_time": "2021-12-14T07:51:59.440171Z"
    }
   },
   "outputs": [
    {
     "data": {
      "text/plain": [
       "(208, 61)"
      ]
     },
     "execution_count": 3,
     "metadata": {},
     "output_type": "execute_result"
    }
   ],
   "source": [
    "df.shape"
   ]
  },
  {
   "cell_type": "code",
   "execution_count": 4,
   "id": "rubber-fleet",
   "metadata": {
    "ExecuteTime": {
     "end_time": "2021-12-14T07:51:59.578736Z",
     "start_time": "2021-12-14T07:51:59.456172Z"
    }
   },
   "outputs": [
    {
     "data": {
      "text/html": [
       "<div>\n",
       "<style scoped>\n",
       "    .dataframe tbody tr th:only-of-type {\n",
       "        vertical-align: middle;\n",
       "    }\n",
       "\n",
       "    .dataframe tbody tr th {\n",
       "        vertical-align: top;\n",
       "    }\n",
       "\n",
       "    .dataframe thead th {\n",
       "        text-align: right;\n",
       "    }\n",
       "</style>\n",
       "<table border=\"1\" class=\"dataframe\">\n",
       "  <thead>\n",
       "    <tr style=\"text-align: right;\">\n",
       "      <th></th>\n",
       "      <th>count</th>\n",
       "      <th>mean</th>\n",
       "      <th>std</th>\n",
       "      <th>min</th>\n",
       "      <th>25%</th>\n",
       "      <th>50%</th>\n",
       "      <th>75%</th>\n",
       "      <th>max</th>\n",
       "    </tr>\n",
       "  </thead>\n",
       "  <tbody>\n",
       "    <tr>\n",
       "      <th>0</th>\n",
       "      <td>208.0</td>\n",
       "      <td>0.029164</td>\n",
       "      <td>0.022991</td>\n",
       "      <td>0.0015</td>\n",
       "      <td>0.013350</td>\n",
       "      <td>0.02280</td>\n",
       "      <td>0.035550</td>\n",
       "      <td>0.1371</td>\n",
       "    </tr>\n",
       "    <tr>\n",
       "      <th>1</th>\n",
       "      <td>208.0</td>\n",
       "      <td>0.038437</td>\n",
       "      <td>0.032960</td>\n",
       "      <td>0.0006</td>\n",
       "      <td>0.016450</td>\n",
       "      <td>0.03080</td>\n",
       "      <td>0.047950</td>\n",
       "      <td>0.2339</td>\n",
       "    </tr>\n",
       "    <tr>\n",
       "      <th>2</th>\n",
       "      <td>208.0</td>\n",
       "      <td>0.043832</td>\n",
       "      <td>0.038428</td>\n",
       "      <td>0.0015</td>\n",
       "      <td>0.018950</td>\n",
       "      <td>0.03430</td>\n",
       "      <td>0.057950</td>\n",
       "      <td>0.3059</td>\n",
       "    </tr>\n",
       "    <tr>\n",
       "      <th>3</th>\n",
       "      <td>208.0</td>\n",
       "      <td>0.053892</td>\n",
       "      <td>0.046528</td>\n",
       "      <td>0.0058</td>\n",
       "      <td>0.024375</td>\n",
       "      <td>0.04405</td>\n",
       "      <td>0.064500</td>\n",
       "      <td>0.4264</td>\n",
       "    </tr>\n",
       "    <tr>\n",
       "      <th>4</th>\n",
       "      <td>208.0</td>\n",
       "      <td>0.075202</td>\n",
       "      <td>0.055552</td>\n",
       "      <td>0.0067</td>\n",
       "      <td>0.038050</td>\n",
       "      <td>0.06250</td>\n",
       "      <td>0.100275</td>\n",
       "      <td>0.4010</td>\n",
       "    </tr>\n",
       "    <tr>\n",
       "      <th>5</th>\n",
       "      <td>208.0</td>\n",
       "      <td>0.104570</td>\n",
       "      <td>0.059105</td>\n",
       "      <td>0.0102</td>\n",
       "      <td>0.067025</td>\n",
       "      <td>0.09215</td>\n",
       "      <td>0.134125</td>\n",
       "      <td>0.3823</td>\n",
       "    </tr>\n",
       "    <tr>\n",
       "      <th>6</th>\n",
       "      <td>208.0</td>\n",
       "      <td>0.121747</td>\n",
       "      <td>0.061788</td>\n",
       "      <td>0.0033</td>\n",
       "      <td>0.080900</td>\n",
       "      <td>0.10695</td>\n",
       "      <td>0.154000</td>\n",
       "      <td>0.3729</td>\n",
       "    </tr>\n",
       "    <tr>\n",
       "      <th>7</th>\n",
       "      <td>208.0</td>\n",
       "      <td>0.134799</td>\n",
       "      <td>0.085152</td>\n",
       "      <td>0.0055</td>\n",
       "      <td>0.080425</td>\n",
       "      <td>0.11210</td>\n",
       "      <td>0.169600</td>\n",
       "      <td>0.4590</td>\n",
       "    </tr>\n",
       "    <tr>\n",
       "      <th>8</th>\n",
       "      <td>208.0</td>\n",
       "      <td>0.178003</td>\n",
       "      <td>0.118387</td>\n",
       "      <td>0.0075</td>\n",
       "      <td>0.097025</td>\n",
       "      <td>0.15225</td>\n",
       "      <td>0.233425</td>\n",
       "      <td>0.6828</td>\n",
       "    </tr>\n",
       "    <tr>\n",
       "      <th>9</th>\n",
       "      <td>208.0</td>\n",
       "      <td>0.208259</td>\n",
       "      <td>0.134416</td>\n",
       "      <td>0.0113</td>\n",
       "      <td>0.111275</td>\n",
       "      <td>0.18240</td>\n",
       "      <td>0.268700</td>\n",
       "      <td>0.7106</td>\n",
       "    </tr>\n",
       "    <tr>\n",
       "      <th>10</th>\n",
       "      <td>208.0</td>\n",
       "      <td>0.236013</td>\n",
       "      <td>0.132705</td>\n",
       "      <td>0.0289</td>\n",
       "      <td>0.129250</td>\n",
       "      <td>0.22480</td>\n",
       "      <td>0.301650</td>\n",
       "      <td>0.7342</td>\n",
       "    </tr>\n",
       "    <tr>\n",
       "      <th>11</th>\n",
       "      <td>208.0</td>\n",
       "      <td>0.250221</td>\n",
       "      <td>0.140072</td>\n",
       "      <td>0.0236</td>\n",
       "      <td>0.133475</td>\n",
       "      <td>0.24905</td>\n",
       "      <td>0.331250</td>\n",
       "      <td>0.7060</td>\n",
       "    </tr>\n",
       "    <tr>\n",
       "      <th>12</th>\n",
       "      <td>208.0</td>\n",
       "      <td>0.273305</td>\n",
       "      <td>0.140962</td>\n",
       "      <td>0.0184</td>\n",
       "      <td>0.166125</td>\n",
       "      <td>0.26395</td>\n",
       "      <td>0.351250</td>\n",
       "      <td>0.7131</td>\n",
       "    </tr>\n",
       "    <tr>\n",
       "      <th>13</th>\n",
       "      <td>208.0</td>\n",
       "      <td>0.296568</td>\n",
       "      <td>0.164474</td>\n",
       "      <td>0.0273</td>\n",
       "      <td>0.175175</td>\n",
       "      <td>0.28110</td>\n",
       "      <td>0.386175</td>\n",
       "      <td>0.9970</td>\n",
       "    </tr>\n",
       "    <tr>\n",
       "      <th>14</th>\n",
       "      <td>208.0</td>\n",
       "      <td>0.320201</td>\n",
       "      <td>0.205427</td>\n",
       "      <td>0.0031</td>\n",
       "      <td>0.164625</td>\n",
       "      <td>0.28170</td>\n",
       "      <td>0.452925</td>\n",
       "      <td>1.0000</td>\n",
       "    </tr>\n",
       "    <tr>\n",
       "      <th>15</th>\n",
       "      <td>208.0</td>\n",
       "      <td>0.378487</td>\n",
       "      <td>0.232650</td>\n",
       "      <td>0.0162</td>\n",
       "      <td>0.196300</td>\n",
       "      <td>0.30470</td>\n",
       "      <td>0.535725</td>\n",
       "      <td>0.9988</td>\n",
       "    </tr>\n",
       "    <tr>\n",
       "      <th>16</th>\n",
       "      <td>208.0</td>\n",
       "      <td>0.415983</td>\n",
       "      <td>0.263677</td>\n",
       "      <td>0.0349</td>\n",
       "      <td>0.205850</td>\n",
       "      <td>0.30840</td>\n",
       "      <td>0.659425</td>\n",
       "      <td>1.0000</td>\n",
       "    </tr>\n",
       "    <tr>\n",
       "      <th>17</th>\n",
       "      <td>208.0</td>\n",
       "      <td>0.452318</td>\n",
       "      <td>0.261529</td>\n",
       "      <td>0.0375</td>\n",
       "      <td>0.242075</td>\n",
       "      <td>0.36830</td>\n",
       "      <td>0.679050</td>\n",
       "      <td>1.0000</td>\n",
       "    </tr>\n",
       "    <tr>\n",
       "      <th>18</th>\n",
       "      <td>208.0</td>\n",
       "      <td>0.504812</td>\n",
       "      <td>0.257988</td>\n",
       "      <td>0.0494</td>\n",
       "      <td>0.299075</td>\n",
       "      <td>0.43495</td>\n",
       "      <td>0.731400</td>\n",
       "      <td>1.0000</td>\n",
       "    </tr>\n",
       "    <tr>\n",
       "      <th>19</th>\n",
       "      <td>208.0</td>\n",
       "      <td>0.563047</td>\n",
       "      <td>0.262653</td>\n",
       "      <td>0.0656</td>\n",
       "      <td>0.350625</td>\n",
       "      <td>0.54250</td>\n",
       "      <td>0.809325</td>\n",
       "      <td>1.0000</td>\n",
       "    </tr>\n",
       "    <tr>\n",
       "      <th>20</th>\n",
       "      <td>208.0</td>\n",
       "      <td>0.609060</td>\n",
       "      <td>0.257818</td>\n",
       "      <td>0.0512</td>\n",
       "      <td>0.399725</td>\n",
       "      <td>0.61770</td>\n",
       "      <td>0.816975</td>\n",
       "      <td>1.0000</td>\n",
       "    </tr>\n",
       "    <tr>\n",
       "      <th>21</th>\n",
       "      <td>208.0</td>\n",
       "      <td>0.624275</td>\n",
       "      <td>0.255883</td>\n",
       "      <td>0.0219</td>\n",
       "      <td>0.406925</td>\n",
       "      <td>0.66490</td>\n",
       "      <td>0.831975</td>\n",
       "      <td>1.0000</td>\n",
       "    </tr>\n",
       "    <tr>\n",
       "      <th>22</th>\n",
       "      <td>208.0</td>\n",
       "      <td>0.646975</td>\n",
       "      <td>0.250175</td>\n",
       "      <td>0.0563</td>\n",
       "      <td>0.450225</td>\n",
       "      <td>0.69970</td>\n",
       "      <td>0.848575</td>\n",
       "      <td>1.0000</td>\n",
       "    </tr>\n",
       "    <tr>\n",
       "      <th>23</th>\n",
       "      <td>208.0</td>\n",
       "      <td>0.672654</td>\n",
       "      <td>0.239116</td>\n",
       "      <td>0.0239</td>\n",
       "      <td>0.540725</td>\n",
       "      <td>0.69850</td>\n",
       "      <td>0.872175</td>\n",
       "      <td>1.0000</td>\n",
       "    </tr>\n",
       "    <tr>\n",
       "      <th>24</th>\n",
       "      <td>208.0</td>\n",
       "      <td>0.675424</td>\n",
       "      <td>0.244926</td>\n",
       "      <td>0.0240</td>\n",
       "      <td>0.525800</td>\n",
       "      <td>0.72110</td>\n",
       "      <td>0.873725</td>\n",
       "      <td>1.0000</td>\n",
       "    </tr>\n",
       "    <tr>\n",
       "      <th>25</th>\n",
       "      <td>208.0</td>\n",
       "      <td>0.699866</td>\n",
       "      <td>0.237228</td>\n",
       "      <td>0.0921</td>\n",
       "      <td>0.544175</td>\n",
       "      <td>0.75450</td>\n",
       "      <td>0.893800</td>\n",
       "      <td>1.0000</td>\n",
       "    </tr>\n",
       "    <tr>\n",
       "      <th>26</th>\n",
       "      <td>208.0</td>\n",
       "      <td>0.702155</td>\n",
       "      <td>0.245657</td>\n",
       "      <td>0.0481</td>\n",
       "      <td>0.531900</td>\n",
       "      <td>0.74560</td>\n",
       "      <td>0.917100</td>\n",
       "      <td>1.0000</td>\n",
       "    </tr>\n",
       "    <tr>\n",
       "      <th>27</th>\n",
       "      <td>208.0</td>\n",
       "      <td>0.694024</td>\n",
       "      <td>0.237189</td>\n",
       "      <td>0.0284</td>\n",
       "      <td>0.534775</td>\n",
       "      <td>0.73190</td>\n",
       "      <td>0.900275</td>\n",
       "      <td>1.0000</td>\n",
       "    </tr>\n",
       "    <tr>\n",
       "      <th>28</th>\n",
       "      <td>208.0</td>\n",
       "      <td>0.642074</td>\n",
       "      <td>0.240250</td>\n",
       "      <td>0.0144</td>\n",
       "      <td>0.463700</td>\n",
       "      <td>0.68080</td>\n",
       "      <td>0.852125</td>\n",
       "      <td>1.0000</td>\n",
       "    </tr>\n",
       "    <tr>\n",
       "      <th>29</th>\n",
       "      <td>208.0</td>\n",
       "      <td>0.580928</td>\n",
       "      <td>0.220749</td>\n",
       "      <td>0.0613</td>\n",
       "      <td>0.411400</td>\n",
       "      <td>0.60715</td>\n",
       "      <td>0.735175</td>\n",
       "      <td>1.0000</td>\n",
       "    </tr>\n",
       "    <tr>\n",
       "      <th>30</th>\n",
       "      <td>208.0</td>\n",
       "      <td>0.504475</td>\n",
       "      <td>0.213992</td>\n",
       "      <td>0.0482</td>\n",
       "      <td>0.345550</td>\n",
       "      <td>0.49035</td>\n",
       "      <td>0.641950</td>\n",
       "      <td>0.9657</td>\n",
       "    </tr>\n",
       "    <tr>\n",
       "      <th>31</th>\n",
       "      <td>208.0</td>\n",
       "      <td>0.439040</td>\n",
       "      <td>0.213237</td>\n",
       "      <td>0.0404</td>\n",
       "      <td>0.281400</td>\n",
       "      <td>0.42960</td>\n",
       "      <td>0.580300</td>\n",
       "      <td>0.9306</td>\n",
       "    </tr>\n",
       "    <tr>\n",
       "      <th>32</th>\n",
       "      <td>208.0</td>\n",
       "      <td>0.417220</td>\n",
       "      <td>0.206513</td>\n",
       "      <td>0.0477</td>\n",
       "      <td>0.257875</td>\n",
       "      <td>0.39120</td>\n",
       "      <td>0.556125</td>\n",
       "      <td>1.0000</td>\n",
       "    </tr>\n",
       "    <tr>\n",
       "      <th>33</th>\n",
       "      <td>208.0</td>\n",
       "      <td>0.403233</td>\n",
       "      <td>0.231242</td>\n",
       "      <td>0.0212</td>\n",
       "      <td>0.217575</td>\n",
       "      <td>0.35105</td>\n",
       "      <td>0.596125</td>\n",
       "      <td>0.9647</td>\n",
       "    </tr>\n",
       "    <tr>\n",
       "      <th>34</th>\n",
       "      <td>208.0</td>\n",
       "      <td>0.392571</td>\n",
       "      <td>0.259132</td>\n",
       "      <td>0.0223</td>\n",
       "      <td>0.179375</td>\n",
       "      <td>0.31275</td>\n",
       "      <td>0.593350</td>\n",
       "      <td>1.0000</td>\n",
       "    </tr>\n",
       "    <tr>\n",
       "      <th>35</th>\n",
       "      <td>208.0</td>\n",
       "      <td>0.384848</td>\n",
       "      <td>0.264121</td>\n",
       "      <td>0.0080</td>\n",
       "      <td>0.154350</td>\n",
       "      <td>0.32115</td>\n",
       "      <td>0.556525</td>\n",
       "      <td>1.0000</td>\n",
       "    </tr>\n",
       "    <tr>\n",
       "      <th>36</th>\n",
       "      <td>208.0</td>\n",
       "      <td>0.363807</td>\n",
       "      <td>0.239912</td>\n",
       "      <td>0.0351</td>\n",
       "      <td>0.160100</td>\n",
       "      <td>0.30630</td>\n",
       "      <td>0.518900</td>\n",
       "      <td>0.9497</td>\n",
       "    </tr>\n",
       "    <tr>\n",
       "      <th>37</th>\n",
       "      <td>208.0</td>\n",
       "      <td>0.339657</td>\n",
       "      <td>0.212973</td>\n",
       "      <td>0.0383</td>\n",
       "      <td>0.174275</td>\n",
       "      <td>0.31270</td>\n",
       "      <td>0.440550</td>\n",
       "      <td>1.0000</td>\n",
       "    </tr>\n",
       "    <tr>\n",
       "      <th>38</th>\n",
       "      <td>208.0</td>\n",
       "      <td>0.325800</td>\n",
       "      <td>0.199075</td>\n",
       "      <td>0.0371</td>\n",
       "      <td>0.173975</td>\n",
       "      <td>0.28350</td>\n",
       "      <td>0.434900</td>\n",
       "      <td>0.9857</td>\n",
       "    </tr>\n",
       "    <tr>\n",
       "      <th>39</th>\n",
       "      <td>208.0</td>\n",
       "      <td>0.311207</td>\n",
       "      <td>0.178662</td>\n",
       "      <td>0.0117</td>\n",
       "      <td>0.186450</td>\n",
       "      <td>0.27805</td>\n",
       "      <td>0.424350</td>\n",
       "      <td>0.9297</td>\n",
       "    </tr>\n",
       "    <tr>\n",
       "      <th>40</th>\n",
       "      <td>208.0</td>\n",
       "      <td>0.289252</td>\n",
       "      <td>0.171111</td>\n",
       "      <td>0.0360</td>\n",
       "      <td>0.163100</td>\n",
       "      <td>0.25950</td>\n",
       "      <td>0.387525</td>\n",
       "      <td>0.8995</td>\n",
       "    </tr>\n",
       "    <tr>\n",
       "      <th>41</th>\n",
       "      <td>208.0</td>\n",
       "      <td>0.278293</td>\n",
       "      <td>0.168728</td>\n",
       "      <td>0.0056</td>\n",
       "      <td>0.158900</td>\n",
       "      <td>0.24510</td>\n",
       "      <td>0.384250</td>\n",
       "      <td>0.8246</td>\n",
       "    </tr>\n",
       "    <tr>\n",
       "      <th>42</th>\n",
       "      <td>208.0</td>\n",
       "      <td>0.246542</td>\n",
       "      <td>0.138993</td>\n",
       "      <td>0.0000</td>\n",
       "      <td>0.155200</td>\n",
       "      <td>0.22255</td>\n",
       "      <td>0.324525</td>\n",
       "      <td>0.7733</td>\n",
       "    </tr>\n",
       "    <tr>\n",
       "      <th>43</th>\n",
       "      <td>208.0</td>\n",
       "      <td>0.214075</td>\n",
       "      <td>0.133291</td>\n",
       "      <td>0.0000</td>\n",
       "      <td>0.126875</td>\n",
       "      <td>0.17770</td>\n",
       "      <td>0.271750</td>\n",
       "      <td>0.7762</td>\n",
       "    </tr>\n",
       "    <tr>\n",
       "      <th>44</th>\n",
       "      <td>208.0</td>\n",
       "      <td>0.197232</td>\n",
       "      <td>0.151628</td>\n",
       "      <td>0.0000</td>\n",
       "      <td>0.094475</td>\n",
       "      <td>0.14800</td>\n",
       "      <td>0.231550</td>\n",
       "      <td>0.7034</td>\n",
       "    </tr>\n",
       "    <tr>\n",
       "      <th>45</th>\n",
       "      <td>208.0</td>\n",
       "      <td>0.160631</td>\n",
       "      <td>0.133938</td>\n",
       "      <td>0.0000</td>\n",
       "      <td>0.068550</td>\n",
       "      <td>0.12135</td>\n",
       "      <td>0.200375</td>\n",
       "      <td>0.7292</td>\n",
       "    </tr>\n",
       "    <tr>\n",
       "      <th>46</th>\n",
       "      <td>208.0</td>\n",
       "      <td>0.122453</td>\n",
       "      <td>0.086953</td>\n",
       "      <td>0.0000</td>\n",
       "      <td>0.064250</td>\n",
       "      <td>0.10165</td>\n",
       "      <td>0.154425</td>\n",
       "      <td>0.5522</td>\n",
       "    </tr>\n",
       "    <tr>\n",
       "      <th>47</th>\n",
       "      <td>208.0</td>\n",
       "      <td>0.091424</td>\n",
       "      <td>0.062417</td>\n",
       "      <td>0.0000</td>\n",
       "      <td>0.045125</td>\n",
       "      <td>0.07810</td>\n",
       "      <td>0.120100</td>\n",
       "      <td>0.3339</td>\n",
       "    </tr>\n",
       "    <tr>\n",
       "      <th>48</th>\n",
       "      <td>208.0</td>\n",
       "      <td>0.051929</td>\n",
       "      <td>0.035954</td>\n",
       "      <td>0.0000</td>\n",
       "      <td>0.026350</td>\n",
       "      <td>0.04470</td>\n",
       "      <td>0.068525</td>\n",
       "      <td>0.1981</td>\n",
       "    </tr>\n",
       "    <tr>\n",
       "      <th>49</th>\n",
       "      <td>208.0</td>\n",
       "      <td>0.020424</td>\n",
       "      <td>0.013665</td>\n",
       "      <td>0.0000</td>\n",
       "      <td>0.011550</td>\n",
       "      <td>0.01790</td>\n",
       "      <td>0.025275</td>\n",
       "      <td>0.0825</td>\n",
       "    </tr>\n",
       "    <tr>\n",
       "      <th>50</th>\n",
       "      <td>208.0</td>\n",
       "      <td>0.016069</td>\n",
       "      <td>0.012008</td>\n",
       "      <td>0.0000</td>\n",
       "      <td>0.008425</td>\n",
       "      <td>0.01390</td>\n",
       "      <td>0.020825</td>\n",
       "      <td>0.1004</td>\n",
       "    </tr>\n",
       "    <tr>\n",
       "      <th>51</th>\n",
       "      <td>208.0</td>\n",
       "      <td>0.013420</td>\n",
       "      <td>0.009634</td>\n",
       "      <td>0.0008</td>\n",
       "      <td>0.007275</td>\n",
       "      <td>0.01140</td>\n",
       "      <td>0.016725</td>\n",
       "      <td>0.0709</td>\n",
       "    </tr>\n",
       "    <tr>\n",
       "      <th>52</th>\n",
       "      <td>208.0</td>\n",
       "      <td>0.010709</td>\n",
       "      <td>0.007060</td>\n",
       "      <td>0.0005</td>\n",
       "      <td>0.005075</td>\n",
       "      <td>0.00955</td>\n",
       "      <td>0.014900</td>\n",
       "      <td>0.0390</td>\n",
       "    </tr>\n",
       "    <tr>\n",
       "      <th>53</th>\n",
       "      <td>208.0</td>\n",
       "      <td>0.010941</td>\n",
       "      <td>0.007301</td>\n",
       "      <td>0.0010</td>\n",
       "      <td>0.005375</td>\n",
       "      <td>0.00930</td>\n",
       "      <td>0.014500</td>\n",
       "      <td>0.0352</td>\n",
       "    </tr>\n",
       "    <tr>\n",
       "      <th>54</th>\n",
       "      <td>208.0</td>\n",
       "      <td>0.009290</td>\n",
       "      <td>0.007088</td>\n",
       "      <td>0.0006</td>\n",
       "      <td>0.004150</td>\n",
       "      <td>0.00750</td>\n",
       "      <td>0.012100</td>\n",
       "      <td>0.0447</td>\n",
       "    </tr>\n",
       "    <tr>\n",
       "      <th>55</th>\n",
       "      <td>208.0</td>\n",
       "      <td>0.008222</td>\n",
       "      <td>0.005736</td>\n",
       "      <td>0.0004</td>\n",
       "      <td>0.004400</td>\n",
       "      <td>0.00685</td>\n",
       "      <td>0.010575</td>\n",
       "      <td>0.0394</td>\n",
       "    </tr>\n",
       "    <tr>\n",
       "      <th>56</th>\n",
       "      <td>208.0</td>\n",
       "      <td>0.007820</td>\n",
       "      <td>0.005785</td>\n",
       "      <td>0.0003</td>\n",
       "      <td>0.003700</td>\n",
       "      <td>0.00595</td>\n",
       "      <td>0.010425</td>\n",
       "      <td>0.0355</td>\n",
       "    </tr>\n",
       "    <tr>\n",
       "      <th>57</th>\n",
       "      <td>208.0</td>\n",
       "      <td>0.007949</td>\n",
       "      <td>0.006470</td>\n",
       "      <td>0.0003</td>\n",
       "      <td>0.003600</td>\n",
       "      <td>0.00580</td>\n",
       "      <td>0.010350</td>\n",
       "      <td>0.0440</td>\n",
       "    </tr>\n",
       "    <tr>\n",
       "      <th>58</th>\n",
       "      <td>208.0</td>\n",
       "      <td>0.007941</td>\n",
       "      <td>0.006181</td>\n",
       "      <td>0.0001</td>\n",
       "      <td>0.003675</td>\n",
       "      <td>0.00640</td>\n",
       "      <td>0.010325</td>\n",
       "      <td>0.0364</td>\n",
       "    </tr>\n",
       "    <tr>\n",
       "      <th>59</th>\n",
       "      <td>208.0</td>\n",
       "      <td>0.006507</td>\n",
       "      <td>0.005031</td>\n",
       "      <td>0.0006</td>\n",
       "      <td>0.003100</td>\n",
       "      <td>0.00530</td>\n",
       "      <td>0.008525</td>\n",
       "      <td>0.0439</td>\n",
       "    </tr>\n",
       "  </tbody>\n",
       "</table>\n",
       "</div>"
      ],
      "text/plain": [
       "    count      mean       std     min       25%      50%       75%     max\n",
       "0   208.0  0.029164  0.022991  0.0015  0.013350  0.02280  0.035550  0.1371\n",
       "1   208.0  0.038437  0.032960  0.0006  0.016450  0.03080  0.047950  0.2339\n",
       "2   208.0  0.043832  0.038428  0.0015  0.018950  0.03430  0.057950  0.3059\n",
       "3   208.0  0.053892  0.046528  0.0058  0.024375  0.04405  0.064500  0.4264\n",
       "4   208.0  0.075202  0.055552  0.0067  0.038050  0.06250  0.100275  0.4010\n",
       "5   208.0  0.104570  0.059105  0.0102  0.067025  0.09215  0.134125  0.3823\n",
       "6   208.0  0.121747  0.061788  0.0033  0.080900  0.10695  0.154000  0.3729\n",
       "7   208.0  0.134799  0.085152  0.0055  0.080425  0.11210  0.169600  0.4590\n",
       "8   208.0  0.178003  0.118387  0.0075  0.097025  0.15225  0.233425  0.6828\n",
       "9   208.0  0.208259  0.134416  0.0113  0.111275  0.18240  0.268700  0.7106\n",
       "10  208.0  0.236013  0.132705  0.0289  0.129250  0.22480  0.301650  0.7342\n",
       "11  208.0  0.250221  0.140072  0.0236  0.133475  0.24905  0.331250  0.7060\n",
       "12  208.0  0.273305  0.140962  0.0184  0.166125  0.26395  0.351250  0.7131\n",
       "13  208.0  0.296568  0.164474  0.0273  0.175175  0.28110  0.386175  0.9970\n",
       "14  208.0  0.320201  0.205427  0.0031  0.164625  0.28170  0.452925  1.0000\n",
       "15  208.0  0.378487  0.232650  0.0162  0.196300  0.30470  0.535725  0.9988\n",
       "16  208.0  0.415983  0.263677  0.0349  0.205850  0.30840  0.659425  1.0000\n",
       "17  208.0  0.452318  0.261529  0.0375  0.242075  0.36830  0.679050  1.0000\n",
       "18  208.0  0.504812  0.257988  0.0494  0.299075  0.43495  0.731400  1.0000\n",
       "19  208.0  0.563047  0.262653  0.0656  0.350625  0.54250  0.809325  1.0000\n",
       "20  208.0  0.609060  0.257818  0.0512  0.399725  0.61770  0.816975  1.0000\n",
       "21  208.0  0.624275  0.255883  0.0219  0.406925  0.66490  0.831975  1.0000\n",
       "22  208.0  0.646975  0.250175  0.0563  0.450225  0.69970  0.848575  1.0000\n",
       "23  208.0  0.672654  0.239116  0.0239  0.540725  0.69850  0.872175  1.0000\n",
       "24  208.0  0.675424  0.244926  0.0240  0.525800  0.72110  0.873725  1.0000\n",
       "25  208.0  0.699866  0.237228  0.0921  0.544175  0.75450  0.893800  1.0000\n",
       "26  208.0  0.702155  0.245657  0.0481  0.531900  0.74560  0.917100  1.0000\n",
       "27  208.0  0.694024  0.237189  0.0284  0.534775  0.73190  0.900275  1.0000\n",
       "28  208.0  0.642074  0.240250  0.0144  0.463700  0.68080  0.852125  1.0000\n",
       "29  208.0  0.580928  0.220749  0.0613  0.411400  0.60715  0.735175  1.0000\n",
       "30  208.0  0.504475  0.213992  0.0482  0.345550  0.49035  0.641950  0.9657\n",
       "31  208.0  0.439040  0.213237  0.0404  0.281400  0.42960  0.580300  0.9306\n",
       "32  208.0  0.417220  0.206513  0.0477  0.257875  0.39120  0.556125  1.0000\n",
       "33  208.0  0.403233  0.231242  0.0212  0.217575  0.35105  0.596125  0.9647\n",
       "34  208.0  0.392571  0.259132  0.0223  0.179375  0.31275  0.593350  1.0000\n",
       "35  208.0  0.384848  0.264121  0.0080  0.154350  0.32115  0.556525  1.0000\n",
       "36  208.0  0.363807  0.239912  0.0351  0.160100  0.30630  0.518900  0.9497\n",
       "37  208.0  0.339657  0.212973  0.0383  0.174275  0.31270  0.440550  1.0000\n",
       "38  208.0  0.325800  0.199075  0.0371  0.173975  0.28350  0.434900  0.9857\n",
       "39  208.0  0.311207  0.178662  0.0117  0.186450  0.27805  0.424350  0.9297\n",
       "40  208.0  0.289252  0.171111  0.0360  0.163100  0.25950  0.387525  0.8995\n",
       "41  208.0  0.278293  0.168728  0.0056  0.158900  0.24510  0.384250  0.8246\n",
       "42  208.0  0.246542  0.138993  0.0000  0.155200  0.22255  0.324525  0.7733\n",
       "43  208.0  0.214075  0.133291  0.0000  0.126875  0.17770  0.271750  0.7762\n",
       "44  208.0  0.197232  0.151628  0.0000  0.094475  0.14800  0.231550  0.7034\n",
       "45  208.0  0.160631  0.133938  0.0000  0.068550  0.12135  0.200375  0.7292\n",
       "46  208.0  0.122453  0.086953  0.0000  0.064250  0.10165  0.154425  0.5522\n",
       "47  208.0  0.091424  0.062417  0.0000  0.045125  0.07810  0.120100  0.3339\n",
       "48  208.0  0.051929  0.035954  0.0000  0.026350  0.04470  0.068525  0.1981\n",
       "49  208.0  0.020424  0.013665  0.0000  0.011550  0.01790  0.025275  0.0825\n",
       "50  208.0  0.016069  0.012008  0.0000  0.008425  0.01390  0.020825  0.1004\n",
       "51  208.0  0.013420  0.009634  0.0008  0.007275  0.01140  0.016725  0.0709\n",
       "52  208.0  0.010709  0.007060  0.0005  0.005075  0.00955  0.014900  0.0390\n",
       "53  208.0  0.010941  0.007301  0.0010  0.005375  0.00930  0.014500  0.0352\n",
       "54  208.0  0.009290  0.007088  0.0006  0.004150  0.00750  0.012100  0.0447\n",
       "55  208.0  0.008222  0.005736  0.0004  0.004400  0.00685  0.010575  0.0394\n",
       "56  208.0  0.007820  0.005785  0.0003  0.003700  0.00595  0.010425  0.0355\n",
       "57  208.0  0.007949  0.006470  0.0003  0.003600  0.00580  0.010350  0.0440\n",
       "58  208.0  0.007941  0.006181  0.0001  0.003675  0.00640  0.010325  0.0364\n",
       "59  208.0  0.006507  0.005031  0.0006  0.003100  0.00530  0.008525  0.0439"
      ]
     },
     "execution_count": 4,
     "metadata": {},
     "output_type": "execute_result"
    }
   ],
   "source": [
    "df.describe().T"
   ]
  },
  {
   "cell_type": "markdown",
   "id": "apparent-realtor",
   "metadata": {},
   "source": [
    "### Handling missing values"
   ]
  },
  {
   "cell_type": "code",
   "execution_count": 5,
   "id": "executive-banking",
   "metadata": {
    "ExecuteTime": {
     "end_time": "2021-12-14T07:51:59.593761Z",
     "start_time": "2021-12-14T07:51:59.579740Z"
    }
   },
   "outputs": [
    {
     "data": {
      "text/plain": [
       "{False}"
      ]
     },
     "execution_count": 5,
     "metadata": {},
     "output_type": "execute_result"
    }
   ],
   "source": [
    "set(df.isna().any())"
   ]
  },
  {
   "cell_type": "markdown",
   "id": "wired-concord",
   "metadata": {},
   "source": [
    "#### Data is clean. No missing value treatment required."
   ]
  },
  {
   "cell_type": "code",
   "execution_count": 6,
   "id": "considerable-williams",
   "metadata": {
    "ExecuteTime": {
     "end_time": "2021-12-14T07:51:59.641760Z",
     "start_time": "2021-12-14T07:51:59.595736Z"
    }
   },
   "outputs": [
    {
     "data": {
      "text/plain": [
       "M    111\n",
       "R     97\n",
       "Name: 60, dtype: int64"
      ]
     },
     "execution_count": 6,
     "metadata": {},
     "output_type": "execute_result"
    }
   ],
   "source": [
    "df[60].value_counts() # label is not skewed"
   ]
  },
  {
   "cell_type": "markdown",
   "id": "illegal-premium",
   "metadata": {},
   "source": [
    "# Methodology\n",
    "## Choosing a measure of success\n",
    "\n",
    "It is a binary classification problem that requires a model to differentiate rocks from metal cylinders.\n",
    "From the above result we can conclude that data is balanced for both the target classes.\n",
    "In this case measure of success will be :\n",
    "- Accuracy\n",
    "- ROC AUC\n"
   ]
  },
  {
   "cell_type": "markdown",
   "id": "purple-symbol",
   "metadata": {},
   "source": [
    "## Deciding on an evaluation protocol\n",
    "K-fold cross-validation will be used as an evaluation protocol as our dataset is small. "
   ]
  },
  {
   "cell_type": "markdown",
   "id": "breeding-encoding",
   "metadata": {},
   "source": [
    "## Data Preprocessing"
   ]
  },
  {
   "cell_type": "code",
   "execution_count": 7,
   "id": "empirical-blanket",
   "metadata": {
    "ExecuteTime": {
     "end_time": "2021-12-14T07:51:59.673750Z",
     "start_time": "2021-12-14T07:51:59.643737Z"
    }
   },
   "outputs": [
    {
     "data": {
      "text/plain": [
       "0    R\n",
       "1    R\n",
       "2    R\n",
       "3    R\n",
       "4    R\n",
       "Name: 60, dtype: object"
      ]
     },
     "execution_count": 7,
     "metadata": {},
     "output_type": "execute_result"
    }
   ],
   "source": [
    "# As last column is target variable\n",
    "X = df.drop(60, axis=1)\n",
    "y = df[60]\n",
    "y.head()"
   ]
  },
  {
   "cell_type": "code",
   "execution_count": 8,
   "id": "virgin-disabled",
   "metadata": {
    "ExecuteTime": {
     "end_time": "2021-12-14T07:51:59.753736Z",
     "start_time": "2021-12-14T07:51:59.676736Z"
    }
   },
   "outputs": [
    {
     "data": {
      "text/html": [
       "<div>\n",
       "<style scoped>\n",
       "    .dataframe tbody tr th:only-of-type {\n",
       "        vertical-align: middle;\n",
       "    }\n",
       "\n",
       "    .dataframe tbody tr th {\n",
       "        vertical-align: top;\n",
       "    }\n",
       "\n",
       "    .dataframe thead th {\n",
       "        text-align: right;\n",
       "    }\n",
       "</style>\n",
       "<table border=\"1\" class=\"dataframe\">\n",
       "  <thead>\n",
       "    <tr style=\"text-align: right;\">\n",
       "      <th></th>\n",
       "      <th>R</th>\n",
       "    </tr>\n",
       "  </thead>\n",
       "  <tbody>\n",
       "    <tr>\n",
       "      <th>117</th>\n",
       "      <td>0</td>\n",
       "    </tr>\n",
       "    <tr>\n",
       "      <th>34</th>\n",
       "      <td>1</td>\n",
       "    </tr>\n",
       "    <tr>\n",
       "      <th>184</th>\n",
       "      <td>0</td>\n",
       "    </tr>\n",
       "    <tr>\n",
       "      <th>78</th>\n",
       "      <td>1</td>\n",
       "    </tr>\n",
       "    <tr>\n",
       "      <th>113</th>\n",
       "      <td>0</td>\n",
       "    </tr>\n",
       "  </tbody>\n",
       "</table>\n",
       "</div>"
      ],
      "text/plain": [
       "     R\n",
       "117  0\n",
       "34   1\n",
       "184  0\n",
       "78   1\n",
       "113  0"
      ]
     },
     "execution_count": 8,
     "metadata": {},
     "output_type": "execute_result"
    }
   ],
   "source": [
    "# Converting y to numerical values\n",
    "y = pd.get_dummies(y, drop_first=True)\n",
    "y.sample(5) # R --> 1 and M --> 0"
   ]
  },
  {
   "cell_type": "code",
   "execution_count": 9,
   "id": "median-ecuador",
   "metadata": {
    "ExecuteTime": {
     "end_time": "2021-12-14T07:51:59.895253Z",
     "start_time": "2021-12-14T07:51:59.756736Z"
    }
   },
   "outputs": [
    {
     "data": {
      "text/html": [
       "<div>\n",
       "<style scoped>\n",
       "    .dataframe tbody tr th:only-of-type {\n",
       "        vertical-align: middle;\n",
       "    }\n",
       "\n",
       "    .dataframe tbody tr th {\n",
       "        vertical-align: top;\n",
       "    }\n",
       "\n",
       "    .dataframe thead th {\n",
       "        text-align: right;\n",
       "    }\n",
       "</style>\n",
       "<table border=\"1\" class=\"dataframe\">\n",
       "  <thead>\n",
       "    <tr style=\"text-align: right;\">\n",
       "      <th></th>\n",
       "      <th>0</th>\n",
       "      <th>1</th>\n",
       "      <th>2</th>\n",
       "      <th>3</th>\n",
       "      <th>4</th>\n",
       "      <th>5</th>\n",
       "      <th>6</th>\n",
       "      <th>7</th>\n",
       "      <th>8</th>\n",
       "      <th>9</th>\n",
       "      <th>...</th>\n",
       "      <th>50</th>\n",
       "      <th>51</th>\n",
       "      <th>52</th>\n",
       "      <th>53</th>\n",
       "      <th>54</th>\n",
       "      <th>55</th>\n",
       "      <th>56</th>\n",
       "      <th>57</th>\n",
       "      <th>58</th>\n",
       "      <th>59</th>\n",
       "    </tr>\n",
       "  </thead>\n",
       "  <tbody>\n",
       "    <tr>\n",
       "      <th>0</th>\n",
       "      <td>0.0200</td>\n",
       "      <td>0.0371</td>\n",
       "      <td>0.0428</td>\n",
       "      <td>0.0207</td>\n",
       "      <td>0.0954</td>\n",
       "      <td>0.0986</td>\n",
       "      <td>0.1539</td>\n",
       "      <td>0.1601</td>\n",
       "      <td>0.3109</td>\n",
       "      <td>0.2111</td>\n",
       "      <td>...</td>\n",
       "      <td>0.0232</td>\n",
       "      <td>0.0027</td>\n",
       "      <td>0.0065</td>\n",
       "      <td>0.0159</td>\n",
       "      <td>0.0072</td>\n",
       "      <td>0.0167</td>\n",
       "      <td>0.0180</td>\n",
       "      <td>0.0084</td>\n",
       "      <td>0.0090</td>\n",
       "      <td>0.0032</td>\n",
       "    </tr>\n",
       "    <tr>\n",
       "      <th>1</th>\n",
       "      <td>0.0453</td>\n",
       "      <td>0.0523</td>\n",
       "      <td>0.0843</td>\n",
       "      <td>0.0689</td>\n",
       "      <td>0.1183</td>\n",
       "      <td>0.2583</td>\n",
       "      <td>0.2156</td>\n",
       "      <td>0.3481</td>\n",
       "      <td>0.3337</td>\n",
       "      <td>0.2872</td>\n",
       "      <td>...</td>\n",
       "      <td>0.0125</td>\n",
       "      <td>0.0084</td>\n",
       "      <td>0.0089</td>\n",
       "      <td>0.0048</td>\n",
       "      <td>0.0094</td>\n",
       "      <td>0.0191</td>\n",
       "      <td>0.0140</td>\n",
       "      <td>0.0049</td>\n",
       "      <td>0.0052</td>\n",
       "      <td>0.0044</td>\n",
       "    </tr>\n",
       "    <tr>\n",
       "      <th>2</th>\n",
       "      <td>0.0262</td>\n",
       "      <td>0.0582</td>\n",
       "      <td>0.1099</td>\n",
       "      <td>0.1083</td>\n",
       "      <td>0.0974</td>\n",
       "      <td>0.2280</td>\n",
       "      <td>0.2431</td>\n",
       "      <td>0.3771</td>\n",
       "      <td>0.5598</td>\n",
       "      <td>0.6194</td>\n",
       "      <td>...</td>\n",
       "      <td>0.0033</td>\n",
       "      <td>0.0232</td>\n",
       "      <td>0.0166</td>\n",
       "      <td>0.0095</td>\n",
       "      <td>0.0180</td>\n",
       "      <td>0.0244</td>\n",
       "      <td>0.0316</td>\n",
       "      <td>0.0164</td>\n",
       "      <td>0.0095</td>\n",
       "      <td>0.0078</td>\n",
       "    </tr>\n",
       "    <tr>\n",
       "      <th>3</th>\n",
       "      <td>0.0100</td>\n",
       "      <td>0.0171</td>\n",
       "      <td>0.0623</td>\n",
       "      <td>0.0205</td>\n",
       "      <td>0.0205</td>\n",
       "      <td>0.0368</td>\n",
       "      <td>0.1098</td>\n",
       "      <td>0.1276</td>\n",
       "      <td>0.0598</td>\n",
       "      <td>0.1264</td>\n",
       "      <td>...</td>\n",
       "      <td>0.0241</td>\n",
       "      <td>0.0121</td>\n",
       "      <td>0.0036</td>\n",
       "      <td>0.0150</td>\n",
       "      <td>0.0085</td>\n",
       "      <td>0.0073</td>\n",
       "      <td>0.0050</td>\n",
       "      <td>0.0044</td>\n",
       "      <td>0.0040</td>\n",
       "      <td>0.0117</td>\n",
       "    </tr>\n",
       "    <tr>\n",
       "      <th>4</th>\n",
       "      <td>0.0762</td>\n",
       "      <td>0.0666</td>\n",
       "      <td>0.0481</td>\n",
       "      <td>0.0394</td>\n",
       "      <td>0.0590</td>\n",
       "      <td>0.0649</td>\n",
       "      <td>0.1209</td>\n",
       "      <td>0.2467</td>\n",
       "      <td>0.3564</td>\n",
       "      <td>0.4459</td>\n",
       "      <td>...</td>\n",
       "      <td>0.0156</td>\n",
       "      <td>0.0031</td>\n",
       "      <td>0.0054</td>\n",
       "      <td>0.0105</td>\n",
       "      <td>0.0110</td>\n",
       "      <td>0.0015</td>\n",
       "      <td>0.0072</td>\n",
       "      <td>0.0048</td>\n",
       "      <td>0.0107</td>\n",
       "      <td>0.0094</td>\n",
       "    </tr>\n",
       "  </tbody>\n",
       "</table>\n",
       "<p>5 rows × 60 columns</p>\n",
       "</div>"
      ],
      "text/plain": [
       "       0       1       2       3       4       5       6       7       8   \\\n",
       "0  0.0200  0.0371  0.0428  0.0207  0.0954  0.0986  0.1539  0.1601  0.3109   \n",
       "1  0.0453  0.0523  0.0843  0.0689  0.1183  0.2583  0.2156  0.3481  0.3337   \n",
       "2  0.0262  0.0582  0.1099  0.1083  0.0974  0.2280  0.2431  0.3771  0.5598   \n",
       "3  0.0100  0.0171  0.0623  0.0205  0.0205  0.0368  0.1098  0.1276  0.0598   \n",
       "4  0.0762  0.0666  0.0481  0.0394  0.0590  0.0649  0.1209  0.2467  0.3564   \n",
       "\n",
       "       9   ...      50      51      52      53      54      55      56  \\\n",
       "0  0.2111  ...  0.0232  0.0027  0.0065  0.0159  0.0072  0.0167  0.0180   \n",
       "1  0.2872  ...  0.0125  0.0084  0.0089  0.0048  0.0094  0.0191  0.0140   \n",
       "2  0.6194  ...  0.0033  0.0232  0.0166  0.0095  0.0180  0.0244  0.0316   \n",
       "3  0.1264  ...  0.0241  0.0121  0.0036  0.0150  0.0085  0.0073  0.0050   \n",
       "4  0.4459  ...  0.0156  0.0031  0.0054  0.0105  0.0110  0.0015  0.0072   \n",
       "\n",
       "       57      58      59  \n",
       "0  0.0084  0.0090  0.0032  \n",
       "1  0.0049  0.0052  0.0044  \n",
       "2  0.0164  0.0095  0.0078  \n",
       "3  0.0044  0.0040  0.0117  \n",
       "4  0.0048  0.0107  0.0094  \n",
       "\n",
       "[5 rows x 60 columns]"
      ]
     },
     "execution_count": 9,
     "metadata": {},
     "output_type": "execute_result"
    }
   ],
   "source": [
    "X.head()"
   ]
  },
  {
   "cell_type": "markdown",
   "id": "terminal-christian",
   "metadata": {},
   "source": [
    "### Splitting Data as train and test data"
   ]
  },
  {
   "cell_type": "code",
   "execution_count": 10,
   "id": "irish-flooring",
   "metadata": {
    "ExecuteTime": {
     "end_time": "2021-12-14T07:52:01.300742Z",
     "start_time": "2021-12-14T07:51:59.896255Z"
    }
   },
   "outputs": [],
   "source": [
    "from sklearn.model_selection import train_test_split\n",
    "X_train, X_test, y_train, y_test = train_test_split(X, y, test_size=0.25,stratify=y, random_state=1)"
   ]
  },
  {
   "cell_type": "code",
   "execution_count": 11,
   "id": "aboriginal-breeding",
   "metadata": {
    "ExecuteTime": {
     "end_time": "2021-12-14T07:52:01.315845Z",
     "start_time": "2021-12-14T07:52:01.302759Z"
    }
   },
   "outputs": [
    {
     "data": {
      "text/plain": [
       "((156, 60), (52, 60))"
      ]
     },
     "execution_count": 11,
     "metadata": {},
     "output_type": "execute_result"
    }
   ],
   "source": [
    "X_train.shape , X_test.shape"
   ]
  },
  {
   "cell_type": "code",
   "execution_count": 12,
   "id": "dense-spyware",
   "metadata": {
    "ExecuteTime": {
     "end_time": "2021-12-14T07:52:01.379305Z",
     "start_time": "2021-12-14T07:52:01.317849Z"
    }
   },
   "outputs": [
    {
     "data": {
      "text/plain": [
       "(R\n",
       " 0    83\n",
       " 1    73\n",
       " dtype: int64,\n",
       " R\n",
       " 0    28\n",
       " 1    24\n",
       " dtype: int64)"
      ]
     },
     "execution_count": 12,
     "metadata": {},
     "output_type": "execute_result"
    }
   ],
   "source": [
    "y_train.value_counts() , y_test.value_counts()"
   ]
  },
  {
   "cell_type": "markdown",
   "id": "indirect-blackberry",
   "metadata": {},
   "source": [
    "# Setting up the Baseline Model "
   ]
  },
  {
   "cell_type": "code",
   "execution_count": 13,
   "id": "usual-pound",
   "metadata": {
    "ExecuteTime": {
     "end_time": "2021-12-14T07:52:11.587102Z",
     "start_time": "2021-12-14T07:52:01.380303Z"
    }
   },
   "outputs": [],
   "source": [
    "import tensorflow as tf\n",
    "from tensorflow import keras\n",
    "from sklearn.metrics import accuracy_score, roc_auc_score\n",
    "from sklearn.metrics import confusion_matrix , classification_report\n",
    "from keras.wrappers.scikit_learn import KerasClassifier\n",
    "from sklearn.model_selection import cross_val_score, StratifiedKFold\n",
    "from sklearn.preprocessing import StandardScaler\n",
    "from sklearn.pipeline import Pipeline"
   ]
  },
  {
   "cell_type": "markdown",
   "id": "stupid-murder",
   "metadata": {},
   "source": [
    "### Defining the Baseline model architecture\n",
    "The baseline network will be simple. in that it has one hidden layers with 30 nodes and relu is a popular choice for activation function, which is short for rectified linear unit\n",
    "\n",
    "- vetor with 60 values for the input layer.\n",
    "- Used a fully-connected linear layer with 30 hidden-neurons.\n",
    "- Used the ReLU activation function for hidden layers.\n",
    "- Used a fully-connected linear layer to the 1 outputs with sigmoid activation function.\n",
    "- Optimization algorithm used - ADAM\n",
    "- Metrics Used - Accuracy\n",
    "- Loss Function - binary_crossentropy"
   ]
  },
  {
   "cell_type": "code",
   "execution_count": 14,
   "id": "spoken-certificate",
   "metadata": {
    "ExecuteTime": {
     "end_time": "2021-12-14T07:52:11.603115Z",
     "start_time": "2021-12-14T07:52:11.589108Z"
    }
   },
   "outputs": [],
   "source": [
    "# baseline\n",
    "def baseline_model():\n",
    "    #Baseline model\n",
    "    model = keras.Sequential([\n",
    "        keras.layers.Dense(30, input_dim=60, activation='relu'),\n",
    "        keras.layers.Dense(1, activation='sigmoid')\n",
    "    ])\n",
    "    model.compile(loss='binary_crossentropy',\n",
    "                  optimizer='adam', \n",
    "                  metrics=['accuracy'])\n",
    "    return model"
   ]
  },
  {
   "cell_type": "code",
   "execution_count": 15,
   "id": "underlying-marijuana",
   "metadata": {
    "ExecuteTime": {
     "end_time": "2021-12-14T07:52:11.650140Z",
     "start_time": "2021-12-14T07:52:11.606109Z"
    }
   },
   "outputs": [],
   "source": [
    "# define plot function for the fit\n",
    "# we will plot the accuracy here\n",
    "def plot_history(history): \n",
    "    plt.figure(figsize=(15,8))\n",
    "    plt.plot(history.history['accuracy'])\n",
    "    plt.plot(history.history['val_accuracy'])\n",
    "    plt.title('Model Accuracy')\n",
    "    plt.ylabel('Accuracy')\n",
    "    plt.xlabel('Epoch')\n",
    "    plt.legend(['Train', 'Validation'])\n",
    "    plt.show()\n",
    "    return history.history['accuracy'][-1] , history.history['val_accuracy'][-1]"
   ]
  },
  {
   "cell_type": "code",
   "execution_count": 16,
   "id": "express-massage",
   "metadata": {
    "ExecuteTime": {
     "end_time": "2021-12-14T07:52:11.665415Z",
     "start_time": "2021-12-14T07:52:11.652429Z"
    }
   },
   "outputs": [],
   "source": [
    "\n",
    "def model_report(model, X_test, y_test):\n",
    "    y_pred = model.predict(X_test).reshape(-1)\n",
    "    # round the values to nearest integer ie 0 or 1\n",
    "    y_pred = np.round(y_pred)\n",
    "    print(classification_report(y_test, y_pred))\n",
    "    acc = accuracy_score(y_test,y_pred)\n",
    "    auc = roc_auc_score(y_test,y_pred)\n",
    "    print(f\"Test data roc_auc_score = {auc:.3f}\")\n",
    "    return acc, auc"
   ]
  },
  {
   "cell_type": "code",
   "execution_count": 17,
   "id": "canadian-jason",
   "metadata": {
    "ExecuteTime": {
     "end_time": "2021-12-14T07:52:12.807901Z",
     "start_time": "2021-12-14T07:52:11.667420Z"
    }
   },
   "outputs": [
    {
     "name": "stdout",
     "output_type": "stream",
     "text": [
      "Model: \"sequential\"\n",
      "_________________________________________________________________\n",
      "Layer (type)                 Output Shape              Param #   \n",
      "=================================================================\n",
      "dense (Dense)                (None, 30)                1830      \n",
      "_________________________________________________________________\n",
      "dense_1 (Dense)              (None, 1)                 31        \n",
      "=================================================================\n",
      "Total params: 1,861\n",
      "Trainable params: 1,861\n",
      "Non-trainable params: 0\n",
      "_________________________________________________________________\n"
     ]
    }
   ],
   "source": [
    "baseline_model1 = baseline_model()\n",
    "\n",
    "baseline_model1.summary()"
   ]
  },
  {
   "cell_type": "code",
   "execution_count": 18,
   "id": "lucky-collapse",
   "metadata": {
    "ExecuteTime": {
     "end_time": "2021-12-14T07:52:18.082612Z",
     "start_time": "2021-12-14T07:52:12.810902Z"
    }
   },
   "outputs": [],
   "source": [
    "epochs = 100\n",
    "batch_size = 16\n",
    "\n",
    "history_baseline_model1 = baseline_model1.fit(X_train, \n",
    "                              y_train,\n",
    "                              epochs=epochs,\n",
    "                              batch_size=batch_size,\n",
    "                              verbose=0, # set to 1 for iteration details, 0 for no details\n",
    "                              shuffle=True,\n",
    "                              validation_split= 0.2)"
   ]
  },
  {
   "cell_type": "code",
   "execution_count": 19,
   "id": "forty-james",
   "metadata": {
    "ExecuteTime": {
     "end_time": "2021-12-14T07:52:18.272575Z",
     "start_time": "2021-12-14T07:52:18.084576Z"
    }
   },
   "outputs": [
    {
     "data": {
      "image/png": "[encoded data removed]",
      "text/plain": [
       "<Figure size 1080x576 with 1 Axes>"
      ]
     },
     "metadata": {},
     "output_type": "display_data"
    }
   ],
   "source": [
    "train_acc_baseline_model1,val_acc_baseline_model1 = plot_history(history_baseline_model1)"
   ]
  },
  {
   "cell_type": "code",
   "execution_count": 20,
   "id": "retained-stockholm",
   "metadata": {
    "ExecuteTime": {
     "end_time": "2021-12-14T07:52:18.430143Z",
     "start_time": "2021-12-14T07:52:18.274577Z"
    }
   },
   "outputs": [
    {
     "name": "stdout",
     "output_type": "stream",
     "text": [
      "2/2 [==============================] - 0s 4ms/step - loss: 0.5062 - accuracy: 0.7500\n"
     ]
    },
    {
     "data": {
      "text/plain": [
       "[0.5062463283538818, 0.75]"
      ]
     },
     "execution_count": 20,
     "metadata": {},
     "output_type": "execute_result"
    }
   ],
   "source": [
    "baseline_model1.evaluate(X_test, y_test)"
   ]
  },
  {
   "cell_type": "code",
   "execution_count": 21,
   "id": "postal-keeping",
   "metadata": {
    "ExecuteTime": {
     "end_time": "2021-12-14T07:52:18.542152Z",
     "start_time": "2021-12-14T07:52:18.432144Z"
    }
   },
   "outputs": [
    {
     "name": "stdout",
     "output_type": "stream",
     "text": [
      "              precision    recall  f1-score   support\n",
      "\n",
      "           0       0.80      0.71      0.75        28\n",
      "           1       0.70      0.79      0.75        24\n",
      "\n",
      "    accuracy                           0.75        52\n",
      "   macro avg       0.75      0.75      0.75        52\n",
      "weighted avg       0.76      0.75      0.75        52\n",
      "\n",
      "Test data roc_auc_score = 0.753\n"
     ]
    }
   ],
   "source": [
    "acc_baseline_model1, auc_baseline_model1 = model_report(baseline_model1, X_test, y_test)"
   ]
  },
  {
   "cell_type": "markdown",
   "id": "exempt-career",
   "metadata": {},
   "source": [
    "## Results"
   ]
  },
  {
   "cell_type": "code",
   "execution_count": 22,
   "id": "fatty-dream",
   "metadata": {
    "ExecuteTime": {
     "end_time": "2021-12-14T07:52:18.558144Z",
     "start_time": "2021-12-14T07:52:18.543143Z"
    }
   },
   "outputs": [
    {
     "name": "stdout",
     "output_type": "stream",
     "text": [
      "This model achieved a training accuracy of over 91.94%, but a validation accuracy of only about 68.75%.\n",
      "In the graphic above it can be observed that: \n",
      "As the Train Accuracy increases, the validation Accuracy is not increasing.\n",
      "The accuracy on test data is 75.0% \n",
      "And ROC AUC Score is 75.3% \n",
      "This baseline model can be improved by adding more dense layers. \n"
     ]
    }
   ],
   "source": [
    "print(f\"This model achieved a training accuracy of over {round(train_acc_baseline_model1*100,2)}%, but a validation accuracy of only about {round(val_acc_baseline_model1*100,2)}%.\\nIn the graphic above it can be observed that: \\nAs the Train Accuracy increases, the validation Accuracy is not increasing.\\nThe accuracy on test data is {round(acc_baseline_model1*100,2)}% \\nAnd ROC AUC Score is {round(auc_baseline_model1*100,2)}% \\nThis baseline model can be improved by adding more dense layers. \")"
   ]
  },
  {
   "cell_type": "markdown",
   "id": "anticipated-toyota",
   "metadata": {},
   "source": [
    "# Developing a model that does better than a baseline"
   ]
  },
  {
   "cell_type": "markdown",
   "id": "entertaining-ownership",
   "metadata": {},
   "source": [
    "### Defining the Better model architecture\n",
    "This network will be slightly more complicated. in that it has two hidden layers with  30 and 15 nodes respectively and relu is a popular choice for activation function, which is short for rectified linear unit\n",
    "\n",
    "- vetor with 60 values for the input layer.\n",
    "- Used a fully-connected linear layer with 30 hidden-neurons.\n",
    "- Used a fully-connected linear layer with 15 hidden-neurons.\n",
    "- Used the ReLU activation function for hidden layers.\n",
    "- Used a fully-connected linear layer to the 1 outputs with sigmoid activation function.\n",
    "- Optimization algorithm used - ADAM\n",
    "- Metrics Used - Accuracy\n",
    "- Loss Function - binary_crossentropy"
   ]
  },
  {
   "cell_type": "code",
   "execution_count": 23,
   "id": "comic-martial",
   "metadata": {
    "ExecuteTime": {
     "end_time": "2021-12-14T07:52:18.574146Z",
     "start_time": "2021-12-14T07:52:18.560145Z"
    }
   },
   "outputs": [],
   "source": [
    "# better\n",
    "def better_model():\n",
    "    #Better model\n",
    "    model = keras.Sequential([\n",
    "        keras.layers.Dense(30, input_dim=60, activation='relu'),\n",
    "        keras.layers.Dense(15, activation='relu'),\n",
    "        keras.layers.Dense(1, activation='sigmoid')\n",
    "    ])\n",
    "    model.compile(loss='binary_crossentropy',\n",
    "                  optimizer='adam', \n",
    "                  metrics=['accuracy'])\n",
    "    return model"
   ]
  },
  {
   "cell_type": "code",
   "execution_count": 24,
   "id": "decent-commitment",
   "metadata": {
    "ExecuteTime": {
     "end_time": "2021-12-14T07:52:18.637636Z",
     "start_time": "2021-12-14T07:52:18.575144Z"
    }
   },
   "outputs": [
    {
     "name": "stdout",
     "output_type": "stream",
     "text": [
      "Model: \"sequential_1\"\n",
      "_________________________________________________________________\n",
      "Layer (type)                 Output Shape              Param #   \n",
      "=================================================================\n",
      "dense_2 (Dense)              (None, 30)                1830      \n",
      "_________________________________________________________________\n",
      "dense_3 (Dense)              (None, 15)                465       \n",
      "_________________________________________________________________\n",
      "dense_4 (Dense)              (None, 1)                 16        \n",
      "=================================================================\n",
      "Total params: 2,311\n",
      "Trainable params: 2,311\n",
      "Non-trainable params: 0\n",
      "_________________________________________________________________\n"
     ]
    }
   ],
   "source": [
    "better_model1 = better_model()\n",
    "\n",
    "# in the summary, notice the LARGE number of total parameters in the model than baseline model \n",
    "better_model1.summary()"
   ]
  },
  {
   "cell_type": "code",
   "execution_count": 25,
   "id": "demonstrated-intellectual",
   "metadata": {
    "ExecuteTime": {
     "end_time": "2021-12-14T07:52:24.066543Z",
     "start_time": "2021-12-14T07:52:18.638637Z"
    }
   },
   "outputs": [],
   "source": [
    "epochs = 100\n",
    "batch_size = 16\n",
    "\n",
    "history_better_model1 = better_model1.fit(X_train, \n",
    "                              y_train,\n",
    "                              epochs=epochs,\n",
    "                              batch_size=batch_size,\n",
    "                              verbose=0, # set to 1 for iteration details, 0 for no details\n",
    "                              shuffle=True,\n",
    "                              validation_split= 0.2)"
   ]
  },
  {
   "cell_type": "code",
   "execution_count": 26,
   "id": "sound-rochester",
   "metadata": {
    "ExecuteTime": {
     "end_time": "2021-12-14T07:52:24.256560Z",
     "start_time": "2021-12-14T07:52:24.068538Z"
    }
   },
   "outputs": [
    {
     "data": {
      "image/png": "[encoded data removed]",
      "text/plain": [
       "<Figure size 1080x576 with 1 Axes>"
      ]
     },
     "metadata": {},
     "output_type": "display_data"
    }
   ],
   "source": [
    "train_acc_better_model1,val_acc_better_model1 = plot_history(history_better_model1)"
   ]
  },
  {
   "cell_type": "code",
   "execution_count": 27,
   "id": "vital-kelly",
   "metadata": {
    "ExecuteTime": {
     "end_time": "2021-12-14T07:52:24.368538Z",
     "start_time": "2021-12-14T07:52:24.259537Z"
    }
   },
   "outputs": [
    {
     "name": "stdout",
     "output_type": "stream",
     "text": [
      "              precision    recall  f1-score   support\n",
      "\n",
      "           0       0.77      0.82      0.79        28\n",
      "           1       0.77      0.71      0.74        24\n",
      "\n",
      "    accuracy                           0.77        52\n",
      "   macro avg       0.77      0.76      0.77        52\n",
      "weighted avg       0.77      0.77      0.77        52\n",
      "\n",
      "Test data roc_auc_score = 0.765\n"
     ]
    }
   ],
   "source": [
    "acc_better_model1, auc_better_model1 = model_report(better_model1, X_test, y_test)"
   ]
  },
  {
   "cell_type": "markdown",
   "id": "secondary-breed",
   "metadata": {},
   "source": [
    "## Results"
   ]
  },
  {
   "cell_type": "code",
   "execution_count": 28,
   "id": "russian-tooth",
   "metadata": {
    "ExecuteTime": {
     "end_time": "2021-12-14T07:52:24.384539Z",
     "start_time": "2021-12-14T07:52:24.371555Z"
    }
   },
   "outputs": [
    {
     "name": "stdout",
     "output_type": "stream",
     "text": [
      "This improved model achieved a training accuracy of over 97.58%, but a validation accuracy of only about 71.88%.\n",
      "In the graphic above we can see clear signs of overfitting: \n",
      "The Train Accuracy increases, but the validation Accuracy decreases.\n",
      "The accuracy on test data is 76.92% \n",
      "And ROC AUC Score is 76.49% \n",
      "Also there is enough large difference in the Accuracy of train and test data to state that baseline model learning the training data really well but fails to generalize the knowledge to the test data. \n"
     ]
    }
   ],
   "source": [
    "print(f\"This improved model achieved a training accuracy of over {round(train_acc_better_model1*100,2)}%, but a validation accuracy of only about {round(val_acc_better_model1*100,2)}%.\\nIn the graphic above we can see clear signs of overfitting: \\nThe Train Accuracy increases, but the validation Accuracy decreases.\\nThe accuracy on test data is {round(acc_better_model1*100,2)}% \\nAnd ROC AUC Score is {round(auc_better_model1*100,2)}% \\nAlso there is enough large difference in the Accuracy of train and test data to state that baseline model learning the training data really well but fails to generalize the knowledge to the test data. \")"
   ]
  },
  {
   "cell_type": "markdown",
   "id": "thick-robert",
   "metadata": {
    "ExecuteTime": {
     "end_time": "2021-12-13T18:24:20.615576Z",
     "start_time": "2021-12-13T18:24:20.604576Z"
    }
   },
   "source": [
    "# Regularizing model and tuning hyperparameters to improve performance and avoid overfitting"
   ]
  },
  {
   "cell_type": "markdown",
   "id": "enabling-collector",
   "metadata": {},
   "source": [
    "### Defining the Regularized model architecture\n",
    "This network has three hidden layers with 30 and 15 nodes respectively and relu is a popular choice for activation function, which is short for rectified linear unit.\n",
    "After each hidden layer, we add a dropout layer, which has been shown to reduce the chances of overfitting in some cases. For these dropout layers, we need to specify the dropout rate. \n",
    "\n",
    "- vetor with 60 values for the input layer.\n",
    "- Used a fully-connected linear layer with 30 hidden-neurons.\n",
    "- Used a fully-connected linear layer with 15 hidden-neurons.\n",
    "- Used the ReLU activation function for hidden layers.\n",
    "- Used a fully-connected linear layer to the 1 outputs with sigmoid activation function.\n",
    "- Used a dropout layer with 0.35 dropout rate after each hidden layer.\n",
    "- Optimization algorithm used - ADAM\n",
    "- Metrics Used - Accuracy\n",
    "- Loss Function - binary_crossentropy"
   ]
  },
  {
   "cell_type": "code",
   "execution_count": 29,
   "id": "graphic-tattoo",
   "metadata": {
    "ExecuteTime": {
     "end_time": "2021-12-14T07:52:24.416545Z",
     "start_time": "2021-12-14T07:52:24.386541Z"
    }
   },
   "outputs": [],
   "source": [
    "# regularized\n",
    "\n",
    "def regularized_model():\n",
    "    #regularized model\n",
    "    model = keras.Sequential([\n",
    "        keras.layers.Dense(30, input_dim=60, activation='relu'),\n",
    "        keras.layers.Dropout(0.35),\n",
    "        keras.layers.Dense(15, activation='relu'),\n",
    "        keras.layers.Dropout(0.35),\n",
    "        keras.layers.Dense(1, activation='sigmoid')\n",
    "    ])\n",
    "    model.compile(loss='binary_crossentropy',\n",
    "                  optimizer='adam', \n",
    "                  metrics=['accuracy'])\n",
    "    return model"
   ]
  },
  {
   "cell_type": "code",
   "execution_count": 30,
   "id": "jewish-infection",
   "metadata": {
    "ExecuteTime": {
     "end_time": "2021-12-14T07:52:24.480663Z",
     "start_time": "2021-12-14T07:52:24.418538Z"
    }
   },
   "outputs": [
    {
     "name": "stdout",
     "output_type": "stream",
     "text": [
      "Model: \"sequential_2\"\n",
      "_________________________________________________________________\n",
      "Layer (type)                 Output Shape              Param #   \n",
      "=================================================================\n",
      "dense_5 (Dense)              (None, 30)                1830      \n",
      "_________________________________________________________________\n",
      "dropout (Dropout)            (None, 30)                0         \n",
      "_________________________________________________________________\n",
      "dense_6 (Dense)              (None, 15)                465       \n",
      "_________________________________________________________________\n",
      "dropout_1 (Dropout)          (None, 15)                0         \n",
      "_________________________________________________________________\n",
      "dense_7 (Dense)              (None, 1)                 16        \n",
      "=================================================================\n",
      "Total params: 2,311\n",
      "Trainable params: 2,311\n",
      "Non-trainable params: 0\n",
      "_________________________________________________________________\n"
     ]
    }
   ],
   "source": [
    "regularized_model1 = regularized_model()\n",
    "\n",
    "# in the summary, notice the LARGE number of total parameters in the model than baseline model \n",
    "regularized_model1.summary()"
   ]
  },
  {
   "cell_type": "code",
   "execution_count": 31,
   "id": "continental-accounting",
   "metadata": {
    "ExecuteTime": {
     "end_time": "2021-12-14T07:52:30.084018Z",
     "start_time": "2021-12-14T07:52:24.482662Z"
    }
   },
   "outputs": [],
   "source": [
    "epochs = 100\n",
    "batch_size = 16\n",
    "\n",
    "history_regularized_model1 = regularized_model1.fit(X_train, \n",
    "                              y_train,\n",
    "                              epochs=epochs,\n",
    "                              batch_size=batch_size,\n",
    "                              verbose=0, # set to 1 for iteration details, 0 for no details\n",
    "                              shuffle=True,\n",
    "                              validation_split= 0.2)"
   ]
  },
  {
   "cell_type": "code",
   "execution_count": 32,
   "id": "graphic-protest",
   "metadata": {
    "ExecuteTime": {
     "end_time": "2021-12-14T07:52:30.292036Z",
     "start_time": "2021-12-14T07:52:30.085014Z"
    }
   },
   "outputs": [
    {
     "data": {
      "image/png": "[encoded data removed]",
      "text/plain": [
       "<Figure size 1080x576 with 1 Axes>"
      ]
     },
     "metadata": {},
     "output_type": "display_data"
    }
   ],
   "source": [
    "train_acc_regularized_model1,val_acc_regularized_model1 = plot_history(history_regularized_model1)"
   ]
  },
  {
   "cell_type": "code",
   "execution_count": 33,
   "id": "random-shepherd",
   "metadata": {
    "ExecuteTime": {
     "end_time": "2021-12-14T07:52:30.403641Z",
     "start_time": "2021-12-14T07:52:30.293016Z"
    }
   },
   "outputs": [
    {
     "name": "stdout",
     "output_type": "stream",
     "text": [
      "              precision    recall  f1-score   support\n",
      "\n",
      "           0       0.84      0.75      0.79        28\n",
      "           1       0.74      0.83      0.78        24\n",
      "\n",
      "    accuracy                           0.79        52\n",
      "   macro avg       0.79      0.79      0.79        52\n",
      "weighted avg       0.79      0.79      0.79        52\n",
      "\n",
      "Test data roc_auc_score = 0.792\n"
     ]
    }
   ],
   "source": [
    "acc_regularized_model1, auc_regularized_model1 = model_report(regularized_model1, X_test, y_test)"
   ]
  },
  {
   "cell_type": "markdown",
   "id": "dirty-convertible",
   "metadata": {},
   "source": [
    "## Results"
   ]
  },
  {
   "cell_type": "code",
   "execution_count": 34,
   "id": "solved-orange",
   "metadata": {
    "ExecuteTime": {
     "end_time": "2021-12-14T07:52:30.418660Z",
     "start_time": "2021-12-14T07:52:30.404642Z"
    }
   },
   "outputs": [
    {
     "name": "stdout",
     "output_type": "stream",
     "text": [
      "This regularized model achieved a training accuracy of over 89.52%, but a validation accuracy of only about 71.88%.\n",
      "In the graphic above, it can be clearly observed that: \n",
      "As the Training Accuracy increases, the validation Accuracy is also increasing.\n",
      "The accuracy on test data is 78.85% \n",
      "And ROC AUC Score is 79.17%.\n",
      "This model is not overfitting the data. \n"
     ]
    }
   ],
   "source": [
    "print(f\"This regularized model achieved a training accuracy of over {round(train_acc_regularized_model1*100,2)}%, but a validation accuracy of only about {round(val_acc_regularized_model1*100,2)}%.\\nIn the graphic above, it can be clearly observed that: \\nAs the Training Accuracy increases, the validation Accuracy is also increasing.\\nThe accuracy on test data is {round(acc_regularized_model1*100,2)}% \\nAnd ROC AUC Score is {round(auc_regularized_model1*100,2)}%.\\nThis model is not overfitting the data. \")"
   ]
  },
  {
   "cell_type": "markdown",
   "id": "fatal-disaster",
   "metadata": {},
   "source": [
    "# Evaluation"
   ]
  },
  {
   "cell_type": "code",
   "execution_count": 35,
   "id": "written-globe",
   "metadata": {
    "ExecuteTime": {
     "end_time": "2021-12-14T07:52:30.449644Z",
     "start_time": "2021-12-14T07:52:30.420662Z"
    }
   },
   "outputs": [],
   "source": [
    "# this classifier will be use to the 5 different training fold \n",
    "\n",
    "def KfoldEvaluation(model_fn, cv =5):\n",
    "    classifier = KerasClassifier(build_fn = model_fn,\n",
    "                                 batch_size = 16,\n",
    "                                 nb_epoch = 100,\n",
    "                                 verbose = 0)\n",
    "\n",
    "    results = cross_val_score(estimator=classifier,\n",
    "                                 X = X,\n",
    "                                 y = y,\n",
    "                                 cv=cv)\n",
    "\n",
    "    print(f\"{model_fn.__name__}: Mean Accuracy : {round(results.mean()*100,2)}% \")"
   ]
  },
  {
   "cell_type": "code",
   "execution_count": 36,
   "id": "intellectual-dover",
   "metadata": {
    "ExecuteTime": {
     "end_time": "2021-12-14T07:52:30.480989Z",
     "start_time": "2021-12-14T07:52:30.451640Z"
    }
   },
   "outputs": [],
   "source": [
    "models_fns = [baseline_model, better_model, regularized_model]"
   ]
  },
  {
   "cell_type": "code",
   "execution_count": 38,
   "id": "documented-liberia",
   "metadata": {
    "ExecuteTime": {
     "end_time": "2021-12-14T07:53:08.642975Z",
     "start_time": "2021-12-14T07:52:59.408252Z"
    }
   },
   "outputs": [
    {
     "name": "stdout",
     "output_type": "stream",
     "text": [
      "baseline_model: Mean Accuracy : 25.92% \n",
      "better_model: Mean Accuracy : 23.33% \n",
      "regularized_model: Mean Accuracy : 33.1% \n"
     ]
    }
   ],
   "source": [
    "for model in models_fns:\n",
    "    KfoldEvaluation(model)"
   ]
  },
  {
   "cell_type": "markdown",
   "id": "every-music",
   "metadata": {},
   "source": [
    "# Conclusion\n",
    "- The Baseline model is performing well on training data but not on testing data. Also the accuracy was not satisfactory. Hence to improve the model we added dense layer.\n",
    "- The Next model, there was a good improvement in training accuracy but with increase in training accuracy, decrease in validation accuracy is observed which is a clear sign of overfitting.\n",
    "- To avoid overfitting, drop out layers were added after each hidden layer. The regularized model is still not perfect, but  the model is overfitting way less.\n",
    "- Further Accuracy of the model can be increases by:\n",
    "    1. Feature Engineering\n",
    "    2. Adding more dense layers \n",
    "    3. Tuning Hyper parameters such as:\n",
    "        - Optimizer\n",
    "        - Learning rate\n",
    "        - No of nodes in each layer\n",
    "        - Drop out rate\n",
    "        - Epochs\n",
    "    4. Adding more data"
   ]
  },
  {
   "cell_type": "code",
   "execution_count": null,
   "id": "incomplete-surprise",
   "metadata": {},
   "outputs": [],
   "source": []
  }
 ],
 "metadata": {
  "kernelspec": {
   "display_name": "Python 3",
   "language": "python",
   "name": "python3"
  },
  "language_info": {
   "codemirror_mode": {
    "name": "ipython",
    "version": 3
   },
   "file_extension": ".py",
   "mimetype": "text/x-python",
   "name": "python",
   "nbconvert_exporter": "python",
   "pygments_lexer": "ipython3",
   "version": "3.8.8"
  },
  "toc": {
   "base_numbering": 1,
   "nav_menu": {},
   "number_sections": false,
   "sideBar": true,
   "skip_h1_title": false,
   "title_cell": "Table of Contents",
   "title_sidebar": "Contents",
   "toc_cell": false,
   "toc_position": {
    "height": "calc(100% - 180px)",
    "left": "10px",
    "top": "150px",
    "width": "303.825px"
   },
   "toc_section_display": true,
   "toc_window_display": false
  }
 },
 "nbformat": 4,
 "nbformat_minor": 5
}
